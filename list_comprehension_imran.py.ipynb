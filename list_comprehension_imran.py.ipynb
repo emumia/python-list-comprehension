{
 "cells": [
  {
   "cell_type": "code",
   "execution_count": 1,
   "id": "f7e6531b",
   "metadata": {},
   "outputs": [
    {
     "name": "stdout",
     "output_type": "stream",
     "text": [
      "[1, 2, 3, 4, 5, 6, 7, 8, 9, 10, 11, 12, 13, 14, 15, 16, 17, 18, 19, 20]\n"
     ]
    }
   ],
   "source": [
    "\n",
    "#without List comprehension\n",
    "lst1 = [0,1,2,3,4,5,6,7,8,9,10,11,12,13,14,15,16,17,18,19]\n",
    "new_lst1 = []\n",
    "\n",
    "for i in lst1:\n",
    "    new_lst1.append(i+1)\n",
    "print(new_lst1)    \n",
    "\n"
   ]
  },
  {
   "cell_type": "code",
   "execution_count": 4,
   "id": "81a98f92",
   "metadata": {},
   "outputs": [
    {
     "name": "stdout",
     "output_type": "stream",
     "text": [
      "[1, 2, 3, 4, 5, 6, 7, 8, 9, 10, 11, 12, 13, 14, 15, 16, 17, 18, 19, 20]\n",
      "\n"
     ]
    }
   ],
   "source": [
    "# with List comprehension\n",
    "lst2 = [0,1,2,3,4,5,6,7,8,9,10,11,12,13,14,15,16,17,18,19]\n",
    "new_lst2 = [i+1 for i in lst2]\n",
    "print(new_lst2)\n"
   ]
  },
  {
   "cell_type": "code",
   "execution_count": 5,
   "id": "683556d5",
   "metadata": {},
   "outputs": [
    {
     "name": "stdout",
     "output_type": "stream",
     "text": [
      "[1, 2, 3, 4, 5, 6, 7, 8, 9, 10, 11, 12, 13, 14, 15, 16, 17, 18, 19, 20]\n"
     ]
    }
   ],
   "source": [
    "#same as above in different way\n",
    "#without List comprehension\n",
    "\n",
    "lst1 =[]\n",
    "for i in range(20):\n",
    "    lst1.append(i+1)\n",
    "print(lst1)    "
   ]
  },
  {
   "cell_type": "code",
   "execution_count": 7,
   "id": "0599fb6a",
   "metadata": {},
   "outputs": [
    {
     "name": "stdout",
     "output_type": "stream",
     "text": [
      "[1, 2, 3, 4, 5, 6, 7, 8, 9, 10, 11, 12, 13, 14, 15, 16, 17, 18, 19, 20]\n"
     ]
    }
   ],
   "source": [
    "# with List comprehension\n",
    "\n",
    "lst1 = [ i+1 for i  in range(20)]\n",
    "print(lst1)\n"
   ]
  },
  {
   "cell_type": "code",
   "execution_count": 13,
   "id": "cf89d1e9",
   "metadata": {},
   "outputs": [
    {
     "name": "stdout",
     "output_type": "stream",
     "text": [
      "[0, 2, 4, 6, 8, 10, 12, 14, 16, 18]\n"
     ]
    }
   ],
   "source": [
    "# without list comprehention (conditional)\n",
    "\n",
    "lst1 =[]\n",
    "for i in range(20):\n",
    "    if i%2 == 0:\n",
    "        lst1.append(i)\n",
    "print(lst1)\n"
   ]
  },
  {
   "cell_type": "code",
   "execution_count": 19,
   "id": "074e0c4d",
   "metadata": {},
   "outputs": [
    {
     "name": "stdout",
     "output_type": "stream",
     "text": [
      "[0, 2, 4, 6, 8, 10, 12, 14, 16, 18]\n"
     ]
    }
   ],
   "source": [
    "#with list comprehension (conditional)\n",
    "lst2 = [i for i in range(20) if i%2 == 0]\n",
    "print(lst2)\n"
   ]
  },
  {
   "cell_type": "code",
   "execution_count": 21,
   "id": "48afbd9e",
   "metadata": {},
   "outputs": [
    {
     "name": "stdout",
     "output_type": "stream",
     "text": [
      "[0, 6, 12, 18]\n"
     ]
    }
   ],
   "source": [
    "# without list comprehension (nested conditional)\n",
    "\n",
    "lst1 = []\n",
    "for i in range(20):\n",
    "    if i%2==0:\n",
    "        if i%3==0:\n",
    "            lst1.append(i)\n",
    "print(lst1)            "
   ]
  },
  {
   "cell_type": "code",
   "execution_count": 22,
   "id": "36edaadb",
   "metadata": {},
   "outputs": [
    {
     "name": "stdout",
     "output_type": "stream",
     "text": [
      "[0, 6, 12, 18]\n"
     ]
    }
   ],
   "source": [
    "# with list comprehension (nested conditional)\n",
    "lst1=[i for i in range(20) if i%2==0 if i%3==0]\n",
    "print(lst1)"
   ]
  },
  {
   "cell_type": "code",
   "execution_count": 24,
   "id": "6581662f",
   "metadata": {},
   "outputs": [
    {
     "name": "stdout",
     "output_type": "stream",
     "text": [
      "[0, 'invalid', 2, 'invalid', 4, 'invalid', 6, 'invalid', 8, 'invalid']\n"
     ]
    }
   ],
   "source": [
    "# without list comprehension (if else)\n",
    "\n",
    "lst1= []\n",
    "for i in range(10):\n",
    "    if(i%2==0):\n",
    "        lst1.append(i)\n",
    "    else:\n",
    "        lst1.append(\"invalid\")\n",
    "        \n",
    "print(lst1)    \n"
   ]
  },
  {
   "cell_type": "code",
   "execution_count": 59,
   "id": "37d7040b",
   "metadata": {},
   "outputs": [
    {
     "name": "stdout",
     "output_type": "stream",
     "text": [
      "[0, 'invalid', 2, 'invalid', 4, 'invalid', 6, 'invalid', 8, 'invalid']\n"
     ]
    }
   ],
   "source": [
    "# with list comprehension (if else)\n",
    "\n",
    "lst2=[i if i%2==0 else \"invalid\" for i in range(10)]\n",
    "print(lst2)\n"
   ]
  },
  {
   "cell_type": "code",
   "execution_count": 58,
   "id": "3931dcc8",
   "metadata": {},
   "outputs": [
    {
     "name": "stdout",
     "output_type": "stream",
     "text": [
      "[[24, 30, 36], [28, 35, 42]]\n"
     ]
    }
   ],
   "source": [
    "# Nested list comprehension\n",
    "\n",
    "lst=[[i*j for j in range(4,7)] for i in range(6,8)]\n",
    "print(lst)\n",
    "\n",
    "\n",
    "\n",
    "\n",
    "# Below Code is only for explanation we can ommit\n",
    "\n",
    "lst = [[24, 30, 36], [28, 35, 42]]\n",
    "for i in range(6,8):\n",
    "    for j in range(4,7):\n",
    "        pass\n",
    "\n",
    "\n",
    "        \n",
    "        \n",
    "        \n",
    "        \n",
    "        \n",
    "\n"
   ]
  },
  {
   "cell_type": "code",
   "execution_count": null,
   "id": "0a8caf02",
   "metadata": {},
   "outputs": [],
   "source": []
  }
 ],
 "metadata": {
  "kernelspec": {
   "display_name": "Python 3",
   "language": "python",
   "name": "python3"
  },
  "language_info": {
   "codemirror_mode": {
    "name": "ipython",
    "version": 3
   },
   "file_extension": ".py",
   "mimetype": "text/x-python",
   "name": "python",
   "nbconvert_exporter": "python",
   "pygments_lexer": "ipython3",
   "version": "3.8.8"
  }
 },
 "nbformat": 4,
 "nbformat_minor": 5
}
